{
 "cells": [
  {
   "cell_type": "markdown",
   "metadata": {},
   "source": [
    "# Simulated annealing metaheuristic to optimize the hemilblau function"
   ]
  },
  {
   "cell_type": "markdown",
   "metadata": {},
   "source": [
    "# Himmelblau's Function"
   ]
  },
  {
   "cell_type": "markdown",
   "metadata": {},
   "source": [
    "Coded by: Mohammed Alagha\n"
   ]
  },
  {
   "cell_type": "markdown",
   "metadata": {},
   "source": [
    "October 2020"
   ]
  },
  {
   "cell_type": "markdown",
   "metadata": {},
   "source": [
    "Himmelblau's function is a multi-modal function, used to test the performance of optimization algorithms.\n",
    " The function is defined by:\n",
    "\n",
    " f(x,y) = (x^{2}+y-11)^{2}+(x+y^{2}-7)^{2}.\n",
    "\n",
    " The function has one local maxima and four identical local minima\n",
    "\n",
    " For more information, check this link:\n",
    " \n",
    "https://en.wikipedia.org/wiki/Himmelblau's_function\n",
    "\n",
    "Algorithm ideas are adopted from \"Optimization with Metaheuristics in Python\", a course offered on Udemy "
   ]
  },
  {
   "cell_type": "code",
   "execution_count": 68,
   "metadata": {},
   "outputs": [],
   "source": [
    "# Importing relevant libraries\n",
    "import numpy as np\n",
    "import matplotlib.pyplot as plt\n",
    "import pandas as pd"
   ]
  },
  {
   "cell_type": "markdown",
   "metadata": {},
   "source": [
    "# Initial Conditions:"
   ]
  },
  {
   "cell_type": "markdown",
   "metadata": {},
   "source": [
    "Since Simulated annealing is a neighborhood-search algorithm, it needs starting points (i.e., initial conditions)"
   ]
  },
  {
   "cell_type": "markdown",
   "metadata": {},
   "source": [
    "Parameters & Hyper-parameters intialization"
   ]
  },
  {
   "cell_type": "code",
   "execution_count": 72,
   "metadata": {},
   "outputs": [],
   "source": [
    "# Initial values for x & y\n",
    "x = 5\n",
    "y = 9\n",
    "\n",
    "# Initial temperature\n",
    "T0 = 1000\n",
    "\n",
    "temp_for_plot = T0\n",
    "\n",
    "# No. of iterations or the No. of times T0 will change\n",
    "itr = 300\n",
    "\n",
    "# No. of neighours searched\n",
    "N = 15 \n",
    "\n",
    "# Factor balancing exploration and exploitation\n",
    "k = 0.1 \n",
    "\n",
    "# Amount by which T0 decreases each iteration m \\in M\n",
    "alpha = 0.85 \n",
    "\n",
    "# Threshold value when optimizing x & y\n",
    "Beta = 0.5\n",
    "\n",
    "# Express the Himmelblau function as an equation\n",
    "z = ((x**2) + y - 11)**2 + (x + (y**2) - 7)**2"
   ]
  },
  {
   "cell_type": "markdown",
   "metadata": {},
   "source": [
    "Useful functions"
   ]
  },
  {
   "cell_type": "code",
   "execution_count": 73,
   "metadata": {},
   "outputs": [],
   "source": [
    "def optimize_param(x, k, Beta):\n",
    "    x_1 = np.random.rand()\n",
    "    x_2 = np.random.rand()\n",
    "    \n",
    "    if x_1 >= Beta:\n",
    "        step_size_x = k * x_2\n",
    "    else:\n",
    "        step_size_x = -k * x_2  \n",
    "    \n",
    "    temp_x = x + step_size_x\n",
    "    return temp_x"
   ]
  },
  {
   "cell_type": "code",
   "execution_count": 74,
   "metadata": {},
   "outputs": [],
   "source": [
    "def temp_cycle(temporary_z, current_z, T0, temporary_x, temporary_y, x, y):\n",
    "    \n",
    "    prob = np.random.rand()\n",
    "        \n",
    "    # Decision formula\n",
    "    Decision = 1/(np.exp(temporary_z - current_z) / T0)\n",
    "        \n",
    "    if temporary_z <= current_z:\n",
    "        x = temporary_x\n",
    "        y = temporary_y\n",
    "    elif prob <= Decision:\n",
    "        x = temporary_x\n",
    "        y = temporary_y\n",
    "    else:\n",
    "        x = x\n",
    "        y = y \n",
    "    return(x, y)"
   ]
  },
  {
   "cell_type": "markdown",
   "metadata": {},
   "source": [
    "# Algorithm Body"
   ]
  },
  {
   "cell_type": "code",
   "execution_count": 75,
   "metadata": {},
   "outputs": [],
   "source": [
    "def simulated_annealing(x, y, z, k, T0, alpha, Beta):\n",
    "    temp = []\n",
    "    z_value = []\n",
    "    print(\"-------------- Before Optimization ----------------\")\n",
    "    print(\"Initial value for x = %0.3f\" % x)\n",
    "    print(\"Initial value for y = %0.3f\" % y)\n",
    "    print(\"Initial value for z = %0.3f\" %z)\n",
    "    for i in range(itr):\n",
    "        for j in range(N):\n",
    "            # Adjust values of x & y by the step_size change to evaluate Z\n",
    "            temporary_x = optimize_param(x, k, Beta)\n",
    "            temporary_y = optimize_param(y, k, Beta)\n",
    "            temporary_z = ((temporary_x**2) + temporary_y - 11)**2 + (temporary_x + (temporary_y**2) - 7)**2\n",
    "\n",
    "            # Current value of Z\n",
    "            current_z = ((x**2) + y - 11)**2 + (x + (y**2) - 7)**2\n",
    "\n",
    "            # Randomly decide whether to make the move or not\n",
    "            x, y = temp_cycle(temporary_z, current_z, T0, temporary_x, temporary_y, x, y)\n",
    "\n",
    "        # Append temperature and associated best iteration z-value\n",
    "        temp.append(T0)\n",
    "        z_value.append(current_z)\n",
    "\n",
    "        # Update Temperature\n",
    "        T0 = T0*alpha\n",
    "\n",
    "    print()\n",
    "    print(\"------------ After applying SA algorithm ----------\")\n",
    "    print(\"Optimum value for x is: %0.3f\" % x)\n",
    "    print(\"Optimum value for y is: %0.3f\" % y)\n",
    "    print(\"Optimized objective value (z) is: %0.3f\" % current_z)\n",
    "    print()\n",
    "    print(\"-------------- End of Optimization ----------------\")"
   ]
  },
  {
   "cell_type": "code",
   "execution_count": 76,
   "metadata": {},
   "outputs": [
    {
     "name": "stdout",
     "output_type": "stream",
     "text": [
      "-------------- Before Optimization ----------------\n",
      "Initial value for x = 5.000\n",
      "Initial value for y = 9.000\n",
      "Initial value for z = 6770.000\n",
      "\n",
      "------------ After applying SA algorithm ----------\n",
      "Optimum value for x is: 2.999\n",
      "Optimum value for y is: 2.000\n",
      "Optimized objective value (z) is: 0.000\n",
      "\n",
      "-------------- End of Optimization ----------------\n"
     ]
    }
   ],
   "source": [
    "simulated_annealing(x, y, z, k, T0, alpha, Beta)"
   ]
  },
  {
   "cell_type": "code",
   "execution_count": null,
   "metadata": {},
   "outputs": [],
   "source": []
  }
 ],
 "metadata": {
  "kernelspec": {
   "display_name": "Python 3",
   "language": "python",
   "name": "python3"
  },
  "language_info": {
   "codemirror_mode": {
    "name": "ipython",
    "version": 3
   },
   "file_extension": ".py",
   "mimetype": "text/x-python",
   "name": "python",
   "nbconvert_exporter": "python",
   "pygments_lexer": "ipython3",
   "version": "3.7.6"
  }
 },
 "nbformat": 4,
 "nbformat_minor": 4
}
