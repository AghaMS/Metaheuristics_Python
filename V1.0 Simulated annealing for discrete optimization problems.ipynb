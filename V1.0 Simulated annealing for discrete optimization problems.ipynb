{
 "cells": [
  {
   "cell_type": "markdown",
   "metadata": {},
   "source": [
    "# Simulated annealing metaheuristic to optimize the QAP"
   ]
  },
  {
   "cell_type": "markdown",
   "metadata": {},
   "source": [
    "This SA code is designed to handle one of the discrete optimization (combinatorial) problems, specifically the QAP"
   ]
  },
  {
   "cell_type": "markdown",
   "metadata": {},
   "source": [
    "Coded by: Mohammed Alagha"
   ]
  },
  {
   "cell_type": "markdown",
   "metadata": {},
   "source": [
    "October 2020"
   ]
  },
  {
   "cell_type": "markdown",
   "metadata": {},
   "source": [
    "The quadratic assignment problem (QAP) is one of the fundamental combinatorial optimization problems in the branch of optimization or operations research in mathematics, from the category of the facilities location problems first introduced by Koopmans and Beckmann.\n",
    "\n",
    "For more information, please check this Wikipedia link\n",
    "\n",
    "https://en.wikipedia.org/wiki/Quadratic_assignment_problem\n",
    "\n",
    "\n",
    "The example and code idea are adopted from \"Optimization with Metaheuristics in Python\", a course offered on Udemy \n",
    "however some modifications are made to replace a lengthy code block by breaking it down to useful functions"
   ]
  },
  {
   "cell_type": "markdown",
   "metadata": {},
   "source": [
    "# Input data"
   ]
  },
  {
   "cell_type": "code",
   "execution_count": 123,
   "metadata": {},
   "outputs": [],
   "source": [
    "# Importing relevant libraries\n",
    "import numpy as np\n",
    "import matplotlib.pyplot as plt\n",
    "import pandas as pd\n",
    "import time as time\n",
    "\n",
    "# Defining dataframes for distance and flow\n",
    "Distance = pd.DataFrame([[0,1,2,3,1,2,3,4],[1,0,1,2,2,1,2,3],\n",
    "                         [2,1,0,1,3,2,1,2],[3,2,1,0,4,3,2,1],\n",
    "                         [1,2,3,4,0,1,2,3],[2,1,2,3,1,0,1,2],\n",
    "                         [3,2,1,2,2,1,0,1],[4,3,2,1,3,2,1,0]], \n",
    "                         columns = [\"A\", \"B\", \"C\", \"D\", \"E\", \"F\", \"G\", \"H\"],\n",
    "                         index = [\"A\", \"B\", \"C\", \"D\", \"E\", \"F\", \"G\", \"H\"])\n",
    "\n",
    "\n",
    "Flow = pd.DataFrame([[0,5,2,4,1,0,0,6],[5,0,3,0,2,2,2,0],\n",
    "                     [2,3,0,0,0,0,0,5],[4,0,0,0,5,2,2,10],\n",
    "                     [1,2,0,5,0,10,0,0],[0,2,0,2,10,0,5,1],\n",
    "                     [0,2,0,2,0,5,0,10],[6,0,5,10,0,1,10,0]],\n",
    "                     columns = [\"A\", \"B\", \"C\", \"D\", \"E\", \"F\", \"G\", \"H\"],\n",
    "                     index = [\"A\", \"B\", \"C\", \"D\", \"E\", \"F\", \"G\", \"H\"])"
   ]
  },
  {
   "cell_type": "markdown",
   "metadata": {},
   "source": [
    "# Initial Conditions, Parameters & Hyper-parameters intialization"
   ]
  },
  {
   "cell_type": "markdown",
   "metadata": {},
   "source": [
    "Since Simulated annealing is a neighborhood-search algorithm, it needs starting points (i.e., initial conditions)"
   ]
  },
  {
   "cell_type": "code",
   "execution_count": 133,
   "metadata": {},
   "outputs": [
    {
     "name": "stdout",
     "output_type": "stream",
     "text": [
      "The size of the solution vector is: 8\n"
     ]
    }
   ],
   "source": [
    "# Hyperparameters of the Simulated Annealing algorithm\n",
    "\n",
    "# Starting tempreature\n",
    "T0 = 1500\n",
    "\n",
    "# Number of iterations\n",
    "M = 250 \n",
    "\n",
    "# Number of neighbors explored at each iteration\n",
    "N = 20\n",
    "\n",
    "# Cooling rate. Amount by which T0 decreases each iteration m in M\n",
    "alpha = 0.9\n",
    "\n",
    "# Initial Solution\n",
    "X0 = [\"B\",\"D\",\"A\",\"E\",\"C\",\"F\",\"G\",\"H\"]\n",
    "print(\"The size of the solution vector is: \" +str(len(X0)))"
   ]
  },
  {
   "cell_type": "markdown",
   "metadata": {},
   "source": [
    "# Useful functions"
   ]
  },
  {
   "cell_type": "code",
   "execution_count": 96,
   "metadata": {},
   "outputs": [],
   "source": [
    "def swap(X0):\n",
    "    '''\n",
    "    This function swaps two variables and creates a challenging solution vector\n",
    "    \n",
    "    Input:\n",
    "    \n",
    "    X0: The incumbent solution vector\n",
    "    \n",
    "    Output:\n",
    "    X_temp: The challenging solution vector\n",
    "    '''\n",
    "    # Generate two random integers with a range between 0 and the size of the solution vector\n",
    "    # The two random integers should be different, otherwise we will end up swapping the same variable with itself\n",
    "    rand_1 = np.random.randint(0, len(X0))\n",
    "    rand_2 = np.random.randint(0, len(X0))\n",
    "    \n",
    "    while rand_1 == rand_2:\n",
    "        rand_2 = np.random.randint(0, len(X0))\n",
    "        \n",
    "    # Define a temporary vector to contain the challenging solution\n",
    "    X_temp = []\n",
    "    \n",
    "    # two positions (variables/departments) to be swapped (chosen at random)\n",
    "    Pos_1 = X0[rand_1]\n",
    "    Pos_2 = X0[rand_2]\n",
    "        \n",
    "    # initiate swapping process\n",
    "    a = 0\n",
    "    for b in range(len(X0)):\n",
    "        if X0[a] == X0[rand_1]:\n",
    "            X_temp = np.append(X_temp, X0[rand_2])\n",
    "        elif X0[a] == X0[rand_2]:\n",
    "            X_temp = np.append(X_temp, X0[rand_1])\n",
    "        else:\n",
    "            X_temp = np.append(X_temp, X0[a])\n",
    "        a += 1\n",
    "    \n",
    "    return X_temp"
   ]
  },
  {
   "cell_type": "code",
   "execution_count": 97,
   "metadata": {},
   "outputs": [],
   "source": [
    "def compute_OF(Distance, Flow, X):\n",
    "    '''\n",
    "    This function computes the objective function value\n",
    "    \n",
    "    Input:\n",
    "    Distance: Dataframe (symmetric) of the distances between department\n",
    "    Flow: Dataframe (symmetric) of the flows between departments\n",
    "    X0: Current best solution (Incumbent)\n",
    "    \n",
    "    Output:\n",
    "    objective function value\n",
    "    '''\n",
    "    \n",
    "    Dist_DF   = Distance.reindex(columns = X, index = X)\n",
    "    Dist_array  = np.array(Dist_DF)\n",
    "    assert(Dist_array.shape == (len(X), len(X)))\n",
    "    \n",
    "    \n",
    "    Obj_Function        = pd.DataFrame(Dist_array * Flow)\n",
    "    Obj_Function_arr    = np.array(Obj_Function)\n",
    "    assert(Obj_Function_arr.shape == (len(X), len(X)))\n",
    "    \n",
    "    OF_value  = sum(sum(Obj_Function_arr))\n",
    "    assert(OF_value.shape == ())\n",
    "    \n",
    "    return OF_value"
   ]
  },
  {
   "cell_type": "code",
   "execution_count": 98,
   "metadata": {},
   "outputs": [],
   "source": [
    "def temp_cycle(challenge_z, Incumbent_z, T0, X_temp, X0):\n",
    "    \"\"\"\n",
    "    This function randomly takes the decision of updating the current incumbent solution vector\n",
    "    \n",
    "    Input:\n",
    "    challenge_z: challenging Obj. function value\n",
    "    Incumbent_z:\n",
    "    T0: Current temperature\n",
    "    X_temp: challenging solution vector\n",
    "    X0: Incumbent solution vector\n",
    "    \n",
    "    Output:\n",
    "    Updated Incumbent solution vector\n",
    "    \n",
    "    \"\"\"\n",
    "    \n",
    "    prob = np.random.rand()\n",
    "        \n",
    "    # Decision formula\n",
    "    Decision = 1/(np.exp(challenge_z - Incumbent_z) / T0)\n",
    "        \n",
    "    if challenge_z <= Incumbent_z:\n",
    "        X0 = X_temp\n",
    "    elif prob <= Decision:\n",
    "        X0 = X_temp\n",
    "    else:\n",
    "        X0 = X0 \n",
    "    return X0"
   ]
  },
  {
   "cell_type": "markdown",
   "metadata": {},
   "source": [
    "# Algorithm body"
   ]
  },
  {
   "cell_type": "code",
   "execution_count": 129,
   "metadata": {},
   "outputs": [],
   "source": [
    "def SA_QAP(Distance, Flow, X0, T0, M, N, alpha):\n",
    "    '''\n",
    "    This function combines the previous functions and executes the complete routine of the simulated annealing \n",
    "    algorithm for the QAP (combinatorial/discrete optimization problem)\n",
    "    \n",
    "    Input:\n",
    "    Distance: Dataframe (symmetric) of the distances between department\n",
    "    Flow: Dataframe (symmetric) of the flows between departments\n",
    "    X0: Current best solution (Incumbent)\n",
    "    T0: Initial temperature\n",
    "    M: Number of iterations\n",
    "    N: Number of explored neighbors\n",
    "    alpha: Factor by which T0 decreases each iteration m in M\n",
    "    \n",
    "    Output:\n",
    "    Results: Dictionary containing:\n",
    "            1- final temperature\n",
    "            2- best heuristically achieved Z value\n",
    "            3- all temperatures throughout the iterations\n",
    "            4- all z values (for plotting purposes)\n",
    "            5- incumbent solution vector\n",
    "    '''\n",
    "    \n",
    "    temp = []\n",
    "    z_value = []\n",
    "    Incumbent_z = compute_OF(Distance, Flow, X0)\n",
    "\n",
    "    print(\"-------------- Before Optimization ----------------\")\n",
    "    print(\"Initial Solution X0 = \", X0)\n",
    "    print(\"Initial objective value for z = \" + str(Incumbent_z))\n",
    "\n",
    "    for i in range(M):\n",
    "        for j in range(N):\n",
    "\n",
    "            # Create the challening solution by swapping variables in the incumbent solution vector X0\n",
    "            X_temp = swap(X0)\n",
    "            \n",
    "\n",
    "            # Computing the OF of the current best solution (Incumbent)\n",
    "            Incumbent_z = compute_OF(Distance, Flow, X0)\n",
    "            challenge_z = compute_OF(Distance, Flow, X_temp)\n",
    "\n",
    "            # Randomly decide whether to make the swap or not\n",
    "            X0 = temp_cycle(challenge_z, Incumbent_z, T0, X_temp, X0)\n",
    "\n",
    "        # Append temperature and associated best iteration z-value\n",
    "        temp.append(T0)\n",
    "        z_value.append(Incumbent_z)\n",
    "\n",
    "        # Update temperature\n",
    "        T0 = alpha * T0\n",
    "    \n",
    "    # A dictionary to save results\n",
    "    Results = {\"T_final\": T0,\n",
    "               \"Min_z\": Incumbent_z,\n",
    "               \"temp\": temp,\n",
    "               \"z_value\": z_value,\n",
    "               \"Incumbent\": X0}\n",
    "    \n",
    "    print()\n",
    "    print(\"-------------- After Optimization ----------------\")\n",
    "    print(\"Incumbent Solution = \", X0)\n",
    "    print(\"Incumbent objective value for z = \" + str(Incumbent_z))\n",
    "    print()\n",
    "    \n",
    "    return Results"
   ]
  },
  {
   "cell_type": "markdown",
   "metadata": {},
   "source": [
    "# Experimentation"
   ]
  },
  {
   "cell_type": "code",
   "execution_count": 131,
   "metadata": {},
   "outputs": [
    {
     "name": "stdout",
     "output_type": "stream",
     "text": [
      "-------------- Before Optimization ----------------\n",
      "Initial Solution X0 =  ['B', 'D', 'A', 'E', 'C', 'F', 'G', 'H']\n",
      "Initial objective value for z = 336\n",
      "\n",
      "-------------- After Optimization ----------------\n",
      "Incumbent Solution =  ['B' 'A' 'E' 'C' 'D' 'H' 'G' 'F']\n",
      "Incumbent objective value for z = 214\n",
      "\n",
      "Running time = 19.907 seconds\n"
     ]
    }
   ],
   "source": [
    "# Starting time\n",
    "tic = time.time()\n",
    "\n",
    "# Execution\n",
    "SA_QAP_optimized = SA_QAP(Distance, Flow, X0, T0, M, N, alpha)\n",
    "\n",
    "# Ending time\n",
    "toc = time.time()\n",
    "\n",
    "print(\"Running time = %0.3f\" %(toc - tic) + \" seconds\")"
   ]
  },
  {
   "cell_type": "markdown",
   "metadata": {},
   "source": [
    "# Plotting"
   ]
  },
  {
   "cell_type": "code",
   "execution_count": 132,
   "metadata": {},
   "outputs": [
    {
     "data": {
      "image/png": "[encoded data removed]",
      "text/plain": [
       "<Figure size 432x288 with 1 Axes>"
      ]
     },
     "metadata": {
      "needs_background": "light"
     },
     "output_type": "display_data"
    }
   ],
   "source": [
    "# Plotting functions completely copied from the course code since the code is simple and straight forward\n",
    "# The only change is the input to the plot function which are the dictionary ouptputs of the algorithm body \n",
    "\n",
    "plt.plot(SA_QAP_optimized[\"temp\"], SA_QAP_optimized[\"z_value\"])\n",
    "plt.title(\"Z Value vs. Temp.\", fontsize = 20, fontweight = 'bold')\n",
    "plt.xlabel(\"Temp.\", fontsize = 18, fontweight = 'bold')\n",
    "plt.ylabel(\"Z Value\", fontsize = 18, fontweight = 'bold')\n",
    "plt.xlim(1500, 0)\n",
    "\n",
    "plt.xticks(np.arange(min(SA_QAP_optimized[\"temp\"]), max(SA_QAP_optimized[\"temp\"]), 100), fontweight = 'bold')\n",
    "plt.yticks(fontweight = 'bold')\n",
    "plt.show()"
   ]
  },
  {
   "cell_type": "code",
   "execution_count": null,
   "metadata": {},
   "outputs": [],
   "source": []
  }
 ],
 "metadata": {
  "kernelspec": {
   "display_name": "Python 3",
   "language": "python",
   "name": "python3"
  },
  "language_info": {
   "codemirror_mode": {
    "name": "ipython",
    "version": 3
   },
   "file_extension": ".py",
   "mimetype": "text/x-python",
   "name": "python",
   "nbconvert_exporter": "python",
   "pygments_lexer": "ipython3",
   "version": "3.7.6"
  }
 },
 "nbformat": 4,
 "nbformat_minor": 4
}
